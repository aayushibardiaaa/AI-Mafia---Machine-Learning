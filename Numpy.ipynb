{
 "cells": [
  {
   "cell_type": "markdown",
   "id": "14fe6b5b",
   "metadata": {},
   "source": [
    "# Numpy "
   ]
  },
  {
   "cell_type": "code",
   "execution_count": 1,
   "id": "bccb82c7",
   "metadata": {},
   "outputs": [],
   "source": [
    "import numpy as np"
   ]
  },
  {
   "cell_type": "code",
   "execution_count": 2,
   "id": "deeac224",
   "metadata": {},
   "outputs": [],
   "source": [
    "#numpy array\n",
    "arr = np.array([[1, 2, 3],\n",
    "              [4, 2, 5]])"
   ]
  },
  {
   "cell_type": "code",
   "execution_count": 3,
   "id": "a3c05bb9",
   "metadata": {},
   "outputs": [
    {
     "data": {
      "text/plain": [
       "numpy.ndarray"
      ]
     },
     "execution_count": 3,
     "metadata": {},
     "output_type": "execute_result"
    }
   ],
   "source": [
    "type(arr)\n",
    "#nd - n dimensional"
   ]
  },
  {
   "cell_type": "code",
   "execution_count": 4,
   "id": "b5e94214",
   "metadata": {},
   "outputs": [
    {
     "data": {
      "text/plain": [
       "2"
      ]
     },
     "execution_count": 4,
     "metadata": {},
     "output_type": "execute_result"
    }
   ],
   "source": [
    "#how many dimensions\n",
    "arr.ndim "
   ]
  },
  {
   "cell_type": "code",
   "execution_count": 5,
   "id": "3a9727ab",
   "metadata": {},
   "outputs": [
    {
     "data": {
      "text/plain": [
       "(2, 3)"
      ]
     },
     "execution_count": 5,
     "metadata": {},
     "output_type": "execute_result"
    }
   ],
   "source": [
    "#number of rows and columns\n",
    "arr.shape"
   ]
  },
  {
   "cell_type": "code",
   "execution_count": 7,
   "id": "48217bcf",
   "metadata": {},
   "outputs": [],
   "source": [
    "#1D array\n",
    "ar = np.array([1, 2, 3])"
   ]
  },
  {
   "cell_type": "code",
   "execution_count": 10,
   "id": "489a5731",
   "metadata": {},
   "outputs": [
    {
     "data": {
      "text/plain": [
       "1"
      ]
     },
     "execution_count": 10,
     "metadata": {},
     "output_type": "execute_result"
    }
   ],
   "source": [
    "ar.ndim"
   ]
  },
  {
   "cell_type": "code",
   "execution_count": 11,
   "id": "417b00c3",
   "metadata": {},
   "outputs": [
    {
     "data": {
      "text/plain": [
       "(3,)"
      ]
     },
     "execution_count": 11,
     "metadata": {},
     "output_type": "execute_result"
    }
   ],
   "source": [
    "ar.shape"
   ]
  },
  {
   "cell_type": "code",
   "execution_count": 12,
   "id": "34dc24d8",
   "metadata": {},
   "outputs": [
    {
     "data": {
      "text/plain": [
       "6"
      ]
     },
     "execution_count": 12,
     "metadata": {},
     "output_type": "execute_result"
    }
   ],
   "source": [
    "#number of elements\n",
    "arr.size"
   ]
  },
  {
   "cell_type": "code",
   "execution_count": 13,
   "id": "2e499a10",
   "metadata": {},
   "outputs": [
    {
     "data": {
      "text/plain": [
       "dtype('int32')"
      ]
     },
     "execution_count": 13,
     "metadata": {},
     "output_type": "execute_result"
    }
   ],
   "source": [
    "#data type of the elements of the array\n",
    "arr.dtype"
   ]
  },
  {
   "cell_type": "code",
   "execution_count": 15,
   "id": "a5bd2694",
   "metadata": {},
   "outputs": [
    {
     "name": "stdout",
     "output_type": "stream",
     "text": [
      "[[1. 2. 3.]\n",
      " [4. 5. 6.]]\n"
     ]
    }
   ],
   "source": [
    "#creating numpy array from list with type float\n",
    "a = np.array([[1,2,3],[4,5,6]], dtype = 'float')\n",
    "print(a)"
   ]
  },
  {
   "cell_type": "code",
   "execution_count": 16,
   "id": "aa1d764c",
   "metadata": {},
   "outputs": [
    {
     "name": "stdout",
     "output_type": "stream",
     "text": [
      "[1 2 3]\n"
     ]
    }
   ],
   "source": [
    "#creating array using tuple\n",
    "b = np.array((1,2,3))\n",
    "print(b)"
   ]
  },
  {
   "cell_type": "code",
   "execution_count": 17,
   "id": "120d6d1f",
   "metadata": {},
   "outputs": [
    {
     "name": "stdout",
     "output_type": "stream",
     "text": [
      "[[0. 0. 0. 0.]\n",
      " [0. 0. 0. 0.]\n",
      " [0. 0. 0. 0.]]\n"
     ]
    }
   ],
   "source": [
    "#creating a 3X4 array with all zeros\n",
    "c = np.zeros((3,4))\n",
    "print(c)"
   ]
  },
  {
   "cell_type": "code",
   "execution_count": 18,
   "id": "9119fae1",
   "metadata": {},
   "outputs": [
    {
     "name": "stdout",
     "output_type": "stream",
     "text": [
      "[[0.91553324 0.89853783]\n",
      " [0.84321164 0.0477857 ]]\n"
     ]
    }
   ],
   "source": [
    "#create an array with random values\n",
    "d = np.random.random((2,2))\n",
    "print(d)"
   ]
  },
  {
   "cell_type": "code",
   "execution_count": 19,
   "id": "07346cba",
   "metadata": {},
   "outputs": [
    {
     "name": "stdout",
     "output_type": "stream",
     "text": [
      "[[6.+0.j 6.+0.j 6.+0.j]\n",
      " [6.+0.j 6.+0.j 6.+0.j]\n",
      " [6.+0.j 6.+0.j 6.+0.j]]\n"
     ]
    }
   ],
   "source": [
    "#create a const value array of complex type\n",
    "e = np.full((3,3), 6, dtype = 'complex')\n",
    "print(e)"
   ]
  },
  {
   "cell_type": "code",
   "execution_count": 20,
   "id": "3bde7f92",
   "metadata": {},
   "outputs": [
    {
     "name": "stdout",
     "output_type": "stream",
     "text": [
      "[ 0  5 10 15 20 25]\n"
     ]
    }
   ],
   "source": [
    "#create a sequence of integers from 0 to 30 with steps of 5\n",
    "f = np.arange(0,30,5)\n",
    "print(f)"
   ]
  },
  {
   "cell_type": "code",
   "execution_count": 22,
   "id": "de657af9",
   "metadata": {},
   "outputs": [
    {
     "name": "stdout",
     "output_type": "stream",
     "text": [
      "[0.         0.55555556 1.11111111 1.66666667 2.22222222 2.77777778\n",
      " 3.33333333 3.88888889 4.44444444 5.        ]\n"
     ]
    }
   ],
   "source": [
    "#create a sequence of 10 values in range 0 to 5\n",
    "g = np.linspace(0,5,10)\n",
    "print(g)"
   ]
  },
  {
   "cell_type": "code",
   "execution_count": 24,
   "id": "c7385aa4",
   "metadata": {},
   "outputs": [
    {
     "name": "stdout",
     "output_type": "stream",
     "text": [
      "[[1 2 3 4]\n",
      " [5 2 4 2]\n",
      " [1 2 0 1]]\n",
      "\n",
      "\n",
      "[[[1 2 3]\n",
      "  [4 5 2]]\n",
      "\n",
      " [[4 2 1]\n",
      "  [2 0 1]]]\n"
     ]
    }
   ],
   "source": [
    "#reshaping 3X4 array to 2X2X3 array\n",
    "h = np.array([[1,2,3,4],\n",
    "             [5,2,4,2],\n",
    "             [1,2,0,1]])\n",
    "newarr = h.reshape(2,2,3)\n",
    "print(h)\n",
    "print(\"\\n\")\n",
    "print(newarr)"
   ]
  },
  {
   "cell_type": "code",
   "execution_count": 25,
   "id": "5eb43756",
   "metadata": {},
   "outputs": [
    {
     "name": "stdout",
     "output_type": "stream",
     "text": [
      "[[1. 1. 1. 1.]\n",
      " [1. 1. 1. 1.]\n",
      " [1. 1. 1. 1.]]\n"
     ]
    }
   ],
   "source": [
    "#creating a 3X4 array with all ones\n",
    "c = np.ones((3,4))\n",
    "print(c)"
   ]
  },
  {
   "cell_type": "code",
   "execution_count": 26,
   "id": "1fbbbe69",
   "metadata": {},
   "outputs": [
    {
     "data": {
      "text/plain": [
       "array([[1., 0., 0.],\n",
       "       [0., 1., 0.],\n",
       "       [0., 0., 1.]])"
      ]
     },
     "execution_count": 26,
     "metadata": {},
     "output_type": "execute_result"
    }
   ],
   "source": [
    "#identity matrix\n",
    "np.eye(3)"
   ]
  },
  {
   "cell_type": "code",
   "execution_count": 27,
   "id": "5cfb4104",
   "metadata": {},
   "outputs": [
    {
     "name": "stdout",
     "output_type": "stream",
     "text": [
      "[1 2 3 4 5 2 4 2 1 2 0 1]\n"
     ]
    }
   ],
   "source": [
    "#flatten array\n",
    "i = np.array([[1,2,3,4],\n",
    "             [5,2,4,2],\n",
    "             [1,2,0,1]])\n",
    "flat = i.flatten()\n",
    "print(flat)"
   ]
  },
  {
   "cell_type": "code",
   "execution_count": 28,
   "id": "98482161",
   "metadata": {},
   "outputs": [
    {
     "data": {
      "text/plain": [
       "array([[ 5,  2,  4],\n",
       "       [ 1,  2,  0],\n",
       "       [ 3,  4, -7]])"
      ]
     },
     "execution_count": 28,
     "metadata": {},
     "output_type": "execute_result"
    }
   ],
   "source": [
    "#indexing\n",
    "j = np.array([[1,2,3,4],\n",
    "             [5,2,4,2],\n",
    "             [1,2,0,1],\n",
    "             [3,4,-7,8]])\n",
    "j[1:,:3]"
   ]
  },
  {
   "cell_type": "code",
   "execution_count": 29,
   "id": "c44b1941",
   "metadata": {},
   "outputs": [
    {
     "data": {
      "text/plain": [
       "array([[ 5,  4],\n",
       "       [ 1,  0],\n",
       "       [ 3, -7]])"
      ]
     },
     "execution_count": 29,
     "metadata": {},
     "output_type": "execute_result"
    }
   ],
   "source": [
    "#cols in steps of 2\n",
    "j[1:,:3:2]"
   ]
  },
  {
   "cell_type": "code",
   "execution_count": 30,
   "id": "993409d4",
   "metadata": {},
   "outputs": [
    {
     "data": {
      "text/plain": [
       "array([[ 5,  4],\n",
       "       [ 3, -7]])"
      ]
     },
     "execution_count": 30,
     "metadata": {},
     "output_type": "execute_result"
    }
   ],
   "source": [
    "#rows and cols in steps of 2\n",
    "#arr[strt:end+1:steps(rows), start:end+1:steps(cols)]\n",
    "j[1::2,:3:2]"
   ]
  },
  {
   "cell_type": "code",
   "execution_count": 31,
   "id": "e183dfae",
   "metadata": {},
   "outputs": [
    {
     "name": "stdout",
     "output_type": "stream",
     "text": [
      "[1 2 3 4 5 2 4 2 1 2 1 3 4 8]\n"
     ]
    }
   ],
   "source": [
    "#conditional indexing\n",
    "con = j > 0\n",
    "temp = j[con]\n",
    "print(temp)"
   ]
  },
  {
   "cell_type": "code",
   "execution_count": 33,
   "id": "7b012146",
   "metadata": {},
   "outputs": [
    {
     "data": {
      "text/plain": [
       "array([2, 3, 4])"
      ]
     },
     "execution_count": 33,
     "metadata": {},
     "output_type": "execute_result"
    }
   ],
   "source": [
    "ar = np.array([1, 2, 3])\n",
    "#broadcasting feature\n",
    "ar+1"
   ]
  },
  {
   "cell_type": "code",
   "execution_count": 34,
   "id": "11b6116d",
   "metadata": {},
   "outputs": [
    {
     "data": {
      "text/plain": [
       "array([0, 1, 2])"
      ]
     },
     "execution_count": 34,
     "metadata": {},
     "output_type": "execute_result"
    }
   ],
   "source": [
    "ar-1"
   ]
  },
  {
   "cell_type": "code",
   "execution_count": 35,
   "id": "f67a97f6",
   "metadata": {},
   "outputs": [
    {
     "data": {
      "text/plain": [
       "array([1, 2, 3])"
      ]
     },
     "execution_count": 35,
     "metadata": {},
     "output_type": "execute_result"
    }
   ],
   "source": [
    "ar.T"
   ]
  },
  {
   "cell_type": "code",
   "execution_count": 36,
   "id": "31e81989",
   "metadata": {},
   "outputs": [],
   "source": [
    "i = np.array([[1,2,3,4],\n",
    "             [5,2,4,2],\n",
    "             [1,2,0,1]])"
   ]
  },
  {
   "cell_type": "code",
   "execution_count": 37,
   "id": "acec1910",
   "metadata": {},
   "outputs": [
    {
     "data": {
      "text/plain": [
       "array([[1, 5, 1],\n",
       "       [2, 2, 2],\n",
       "       [3, 4, 0],\n",
       "       [4, 2, 1]])"
      ]
     },
     "execution_count": 37,
     "metadata": {},
     "output_type": "execute_result"
    }
   ],
   "source": [
    "#Transpose\n",
    "i.T"
   ]
  },
  {
   "cell_type": "code",
   "execution_count": 38,
   "id": "d4fc5a4d",
   "metadata": {},
   "outputs": [
    {
     "data": {
      "text/plain": [
       "5"
      ]
     },
     "execution_count": 38,
     "metadata": {},
     "output_type": "execute_result"
    }
   ],
   "source": [
    "#max element\n",
    "i.max()"
   ]
  },
  {
   "cell_type": "code",
   "execution_count": 39,
   "id": "34d7243b",
   "metadata": {},
   "outputs": [
    {
     "data": {
      "text/plain": [
       "array([ 1,  3,  6, 10, 15, 17, 21, 23, 24, 26, 26, 27], dtype=int32)"
      ]
     },
     "execution_count": 39,
     "metadata": {},
     "output_type": "execute_result"
    }
   ],
   "source": [
    "i.cumsum()"
   ]
  },
  {
   "cell_type": "code",
   "execution_count": 41,
   "id": "01ffd78e",
   "metadata": {},
   "outputs": [
    {
     "data": {
      "text/plain": [
       "array([[1, 2, 3, 4],\n",
       "       [6, 4, 7, 6],\n",
       "       [7, 6, 7, 7]], dtype=int32)"
      ]
     },
     "execution_count": 41,
     "metadata": {},
     "output_type": "execute_result"
    }
   ],
   "source": [
    "#axis defines whether you want to go row wise or col wise\n",
    "i.cumsum(axis = 0) #rowwise(0 for colwise)"
   ]
  },
  {
   "cell_type": "code",
   "execution_count": 42,
   "id": "5640934d",
   "metadata": {},
   "outputs": [
    {
     "data": {
      "text/plain": [
       "array([5, 2, 4, 4])"
      ]
     },
     "execution_count": 42,
     "metadata": {},
     "output_type": "execute_result"
    }
   ],
   "source": [
    "i.max(axis = 0)"
   ]
  },
  {
   "cell_type": "markdown",
   "id": "97bee188",
   "metadata": {},
   "source": [
    "# Matrix operations\n",
    "a+b, a-b, a*b, a.dot(b)\n",
    "\n",
    "can create array of sine values, exponential values and sqrt values\n",
    "\n",
    "a = np.array([0,np.pi/2, np.pi]) np.sin(a), a = np.array ([0,1,2,3]) np.exp(a), np.sqrt(a)"
   ]
  },
  {
   "cell_type": "code",
   "execution_count": 46,
   "id": "b70bdb29",
   "metadata": {},
   "outputs": [
    {
     "name": "stdout",
     "output_type": "stream",
     "text": [
      "[[7 3 8]\n",
      " [1 4 9]\n",
      " [2 0 6]]\n"
     ]
    },
    {
     "data": {
      "text/plain": [
       "array([[1, 0, 6],\n",
       "       [2, 3, 8],\n",
       "       [7, 4, 9]])"
      ]
     },
     "execution_count": 46,
     "metadata": {},
     "output_type": "execute_result"
    }
   ],
   "source": [
    "arrs = np.array([[7,3,8],\n",
    "                [1,4,9],\n",
    "                [2,0,6]])\n",
    "print(arrs)\n",
    "np.sort(arrs, axis = 0)"
   ]
  },
  {
   "cell_type": "code",
   "execution_count": 48,
   "id": "81b87c91",
   "metadata": {},
   "outputs": [
    {
     "data": {
      "text/plain": [
       "array([[3, 7, 8],\n",
       "       [1, 4, 9],\n",
       "       [0, 2, 6]])"
      ]
     },
     "execution_count": 48,
     "metadata": {},
     "output_type": "execute_result"
    }
   ],
   "source": [
    "#mergesort\n",
    "np.sort(arrs, axis = 1, kind = 'mergesort')"
   ]
  },
  {
   "cell_type": "code",
   "execution_count": 49,
   "id": "cc94be86",
   "metadata": {},
   "outputs": [
    {
     "name": "stdout",
     "output_type": "stream",
     "text": [
      "[(b'Aayushi', 2001, 10.) (b'Aahana', 2002,  8.) (b'x', 2003,  9.)]\n"
     ]
    }
   ],
   "source": [
    "#set alias for dtype\n",
    "dtypes = [('name','S10'), ('year',int), ('cgpa', float)]\n",
    "values = [('Aayushi', 2001, 10), ('Aahana', 2002, 8), ('x', 2003, 9)]\n",
    "arra = np.array(values, dtype = dtypes)\n",
    "print(arra)"
   ]
  },
  {
   "cell_type": "code",
   "execution_count": null,
   "id": "46dcc22d",
   "metadata": {},
   "outputs": [],
   "source": []
  }
 ],
 "metadata": {
  "kernelspec": {
   "display_name": "Python 3",
   "language": "python",
   "name": "python3"
  },
  "language_info": {
   "codemirror_mode": {
    "name": "ipython",
    "version": 3
   },
   "file_extension": ".py",
   "mimetype": "text/x-python",
   "name": "python",
   "nbconvert_exporter": "python",
   "pygments_lexer": "ipython3",
   "version": "3.8.8"
  }
 },
 "nbformat": 4,
 "nbformat_minor": 5
}
